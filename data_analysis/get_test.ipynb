{
 "cells": [
  {
   "cell_type": "code",
   "execution_count": 9,
   "metadata": {
    "collapsed": true
   },
   "outputs": [],
   "source": [
    "import pandas as pd\n",
    "import requests\n",
    "import json"
   ]
  },
  {
   "cell_type": "code",
   "execution_count": 7,
   "outputs": [],
   "source": [
    "url = 'http://127.0.0.1:8000/disclosure/list/?page=12'"
   ],
   "metadata": {
    "collapsed": false,
    "pycharm": {
     "name": "#%%\n"
    }
   }
  },
  {
   "cell_type": "code",
   "execution_count": 8,
   "outputs": [],
   "source": [
    "response = requests.get(url)"
   ],
   "metadata": {
    "collapsed": false,
    "pycharm": {
     "name": "#%%\n"
    }
   }
  },
  {
   "cell_type": "code",
   "execution_count": 11,
   "outputs": [],
   "source": [
    "data_dict = json.loads(response.text)"
   ],
   "metadata": {
    "collapsed": false,
    "pycharm": {
     "name": "#%%\n"
    }
   }
  },
  {
   "cell_type": "code",
   "execution_count": 15,
   "outputs": [],
   "source": [
    "datas = data_dict['results']"
   ],
   "metadata": {
    "collapsed": false,
    "pycharm": {
     "name": "#%%\n"
    }
   }
  },
  {
   "cell_type": "code",
   "execution_count": 17,
   "outputs": [],
   "source": [
    "df = pd.DataFrame(datas)"
   ],
   "metadata": {
    "collapsed": false,
    "pycharm": {
     "name": "#%%\n"
    }
   }
  },
  {
   "cell_type": "code",
   "execution_count": 18,
   "outputs": [
    {
     "data": {
      "text/plain": "           rcept_no corp_code corp_name stock_code corp_cls report_name  \\\n0    20000616000171  00184889     이건홀딩스    39020.0        K        None   \n1    20000616000172  00126371      삼성전기     9150.0        Y        None   \n2    20000616000173  00258731     현대멀티캡    35910.0        E        None   \n3    20000616000174  00204262    한글과컴퓨터    30520.0        K        None   \n4    20000616000176  00121941        대상     1680.0        Y        None   \n..              ...       ...       ...        ...      ...         ...   \n995  20000628000138  00164830    한국조선해양     9540.0        Y        None   \n996  20000628000139  00156859   KTB투자증권    30210.0        Y        None   \n997  20000628000140  00156859   KTB투자증권    30210.0        Y        None   \n998  20000628000141  00131780    SK네트웍스     1740.0        Y        None   \n999  20000628000142  00148896       OCI    10060.0        Y        None   \n\n    fir_nm              rcept_dt    rm  \n0     None  2000-06-16T00:00:00Z  None  \n1     None  2000-06-16T00:00:00Z  None  \n2     None  2000-06-16T00:00:00Z  None  \n3     None  2000-06-16T00:00:00Z  None  \n4     None  2000-06-16T00:00:00Z  None  \n..     ...                   ...   ...  \n995   None  2000-06-28T00:00:00Z     공  \n996   None  2000-06-28T00:00:00Z  None  \n997   None  2000-06-28T00:00:00Z  None  \n998   None  2000-06-28T00:00:00Z  None  \n999   None  2000-06-28T00:00:00Z  None  \n\n[1000 rows x 9 columns]",
      "text/html": "<div>\n<style scoped>\n    .dataframe tbody tr th:only-of-type {\n        vertical-align: middle;\n    }\n\n    .dataframe tbody tr th {\n        vertical-align: top;\n    }\n\n    .dataframe thead th {\n        text-align: right;\n    }\n</style>\n<table border=\"1\" class=\"dataframe\">\n  <thead>\n    <tr style=\"text-align: right;\">\n      <th></th>\n      <th>rcept_no</th>\n      <th>corp_code</th>\n      <th>corp_name</th>\n      <th>stock_code</th>\n      <th>corp_cls</th>\n      <th>report_name</th>\n      <th>fir_nm</th>\n      <th>rcept_dt</th>\n      <th>rm</th>\n    </tr>\n  </thead>\n  <tbody>\n    <tr>\n      <th>0</th>\n      <td>20000616000171</td>\n      <td>00184889</td>\n      <td>이건홀딩스</td>\n      <td>39020.0</td>\n      <td>K</td>\n      <td>None</td>\n      <td>None</td>\n      <td>2000-06-16T00:00:00Z</td>\n      <td>None</td>\n    </tr>\n    <tr>\n      <th>1</th>\n      <td>20000616000172</td>\n      <td>00126371</td>\n      <td>삼성전기</td>\n      <td>9150.0</td>\n      <td>Y</td>\n      <td>None</td>\n      <td>None</td>\n      <td>2000-06-16T00:00:00Z</td>\n      <td>None</td>\n    </tr>\n    <tr>\n      <th>2</th>\n      <td>20000616000173</td>\n      <td>00258731</td>\n      <td>현대멀티캡</td>\n      <td>35910.0</td>\n      <td>E</td>\n      <td>None</td>\n      <td>None</td>\n      <td>2000-06-16T00:00:00Z</td>\n      <td>None</td>\n    </tr>\n    <tr>\n      <th>3</th>\n      <td>20000616000174</td>\n      <td>00204262</td>\n      <td>한글과컴퓨터</td>\n      <td>30520.0</td>\n      <td>K</td>\n      <td>None</td>\n      <td>None</td>\n      <td>2000-06-16T00:00:00Z</td>\n      <td>None</td>\n    </tr>\n    <tr>\n      <th>4</th>\n      <td>20000616000176</td>\n      <td>00121941</td>\n      <td>대상</td>\n      <td>1680.0</td>\n      <td>Y</td>\n      <td>None</td>\n      <td>None</td>\n      <td>2000-06-16T00:00:00Z</td>\n      <td>None</td>\n    </tr>\n    <tr>\n      <th>...</th>\n      <td>...</td>\n      <td>...</td>\n      <td>...</td>\n      <td>...</td>\n      <td>...</td>\n      <td>...</td>\n      <td>...</td>\n      <td>...</td>\n      <td>...</td>\n    </tr>\n    <tr>\n      <th>995</th>\n      <td>20000628000138</td>\n      <td>00164830</td>\n      <td>한국조선해양</td>\n      <td>9540.0</td>\n      <td>Y</td>\n      <td>None</td>\n      <td>None</td>\n      <td>2000-06-28T00:00:00Z</td>\n      <td>공</td>\n    </tr>\n    <tr>\n      <th>996</th>\n      <td>20000628000139</td>\n      <td>00156859</td>\n      <td>KTB투자증권</td>\n      <td>30210.0</td>\n      <td>Y</td>\n      <td>None</td>\n      <td>None</td>\n      <td>2000-06-28T00:00:00Z</td>\n      <td>None</td>\n    </tr>\n    <tr>\n      <th>997</th>\n      <td>20000628000140</td>\n      <td>00156859</td>\n      <td>KTB투자증권</td>\n      <td>30210.0</td>\n      <td>Y</td>\n      <td>None</td>\n      <td>None</td>\n      <td>2000-06-28T00:00:00Z</td>\n      <td>None</td>\n    </tr>\n    <tr>\n      <th>998</th>\n      <td>20000628000141</td>\n      <td>00131780</td>\n      <td>SK네트웍스</td>\n      <td>1740.0</td>\n      <td>Y</td>\n      <td>None</td>\n      <td>None</td>\n      <td>2000-06-28T00:00:00Z</td>\n      <td>None</td>\n    </tr>\n    <tr>\n      <th>999</th>\n      <td>20000628000142</td>\n      <td>00148896</td>\n      <td>OCI</td>\n      <td>10060.0</td>\n      <td>Y</td>\n      <td>None</td>\n      <td>None</td>\n      <td>2000-06-28T00:00:00Z</td>\n      <td>None</td>\n    </tr>\n  </tbody>\n</table>\n<p>1000 rows × 9 columns</p>\n</div>"
     },
     "execution_count": 18,
     "metadata": {},
     "output_type": "execute_result"
    }
   ],
   "source": [
    "df"
   ],
   "metadata": {
    "collapsed": false,
    "pycharm": {
     "name": "#%%\n"
    }
   }
  },
  {
   "cell_type": "code",
   "execution_count": 20,
   "outputs": [
    {
     "data": {
      "text/plain": "0     2000-06-16 00:00:00+00:00\n1     2000-06-16 00:00:00+00:00\n2     2000-06-16 00:00:00+00:00\n3     2000-06-16 00:00:00+00:00\n4     2000-06-16 00:00:00+00:00\n                 ...           \n995   2000-06-28 00:00:00+00:00\n996   2000-06-28 00:00:00+00:00\n997   2000-06-28 00:00:00+00:00\n998   2000-06-28 00:00:00+00:00\n999   2000-06-28 00:00:00+00:00\nName: rcept_dt, Length: 1000, dtype: datetime64[ns, UTC]"
     },
     "execution_count": 20,
     "metadata": {},
     "output_type": "execute_result"
    }
   ],
   "source": [
    "pd.to_datetime(df['rcept_dt'])"
   ],
   "metadata": {
    "collapsed": false,
    "pycharm": {
     "name": "#%%\n"
    }
   }
  },
  {
   "cell_type": "code",
   "execution_count": null,
   "outputs": [],
   "source": [],
   "metadata": {
    "collapsed": false,
    "pycharm": {
     "name": "#%%\n"
    }
   }
  }
 ],
 "metadata": {
  "kernelspec": {
   "display_name": "Python 3",
   "language": "python",
   "name": "python3"
  },
  "language_info": {
   "codemirror_mode": {
    "name": "ipython",
    "version": 2
   },
   "file_extension": ".py",
   "mimetype": "text/x-python",
   "name": "python",
   "nbconvert_exporter": "python",
   "pygments_lexer": "ipython2",
   "version": "2.7.6"
  }
 },
 "nbformat": 4,
 "nbformat_minor": 0
}