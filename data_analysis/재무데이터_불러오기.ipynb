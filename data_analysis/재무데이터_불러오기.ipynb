{
 "cells": [
  {
   "cell_type": "code",
   "execution_count": 4,
   "metadata": {
    "collapsed": true
   },
   "outputs": [],
   "source": [
    "import OpenDartReader\n",
    "import pandas as pd"
   ]
  },
  {
   "cell_type": "code",
   "execution_count": 5,
   "outputs": [],
   "source": [
    "api_keys = ['1cf3849a3d28a7606111549de96ce783235b6ddd', 'd593461a1c3f419f4f6c049bca271d76a4cac0eb', '507067cac0daee90d45db48476241a0f47665afc', 'cf9bbfca72aeb5d5b0d16cadb3a03b34f8c28142']"
   ],
   "metadata": {
    "collapsed": false,
    "pycharm": {
     "name": "#%%\n"
    }
   }
  },
  {
   "cell_type": "code",
   "execution_count": 6,
   "outputs": [],
   "source": [
    "api = OpenDartReader(api_keys[0])"
   ],
   "metadata": {
    "collapsed": false,
    "pycharm": {
     "name": "#%%\n"
    }
   }
  },
  {
   "cell_type": "code",
   "execution_count": 10,
   "outputs": [],
   "source": [
    "results = api.finstate('005930', bsns_year='2019')"
   ],
   "metadata": {
    "collapsed": false,
    "pycharm": {
     "name": "#%%\n"
    }
   }
  },
  {
   "cell_type": "code",
   "execution_count": 12,
   "outputs": [
    {
     "data": {
      "text/plain": "Index(['rcept_no', 'reprt_code', 'bsns_year', 'corp_code', 'stock_code',\n       'fs_div', 'fs_nm', 'sj_div', 'sj_nm', 'account_nm', 'thstrm_nm',\n       'thstrm_dt', 'thstrm_amount', 'frmtrm_nm', 'frmtrm_dt', 'frmtrm_amount',\n       'bfefrmtrm_nm', 'bfefrmtrm_dt', 'bfefrmtrm_amount', 'ord'],\n      dtype='object')"
     },
     "execution_count": 12,
     "metadata": {},
     "output_type": "execute_result"
    }
   ],
   "source": [
    "results.columns"
   ],
   "metadata": {
    "collapsed": false,
    "pycharm": {
     "name": "#%%\n"
    }
   }
  },
  {
   "cell_type": "code",
   "execution_count": 13,
   "outputs": [
    {
     "data": {
      "text/plain": "         rcept_no reprt_code bsns_year corp_code stock_code fs_div   fs_nm  \\\n0  20200330003851      11011      2019  00126380     005930    CFS  연결재무제표   \n1  20200330003851      11011      2019  00126380     005930    CFS  연결재무제표   \n2  20200330003851      11011      2019  00126380     005930    CFS  연결재무제표   \n3  20200330003851      11011      2019  00126380     005930    CFS  연결재무제표   \n4  20200330003851      11011      2019  00126380     005930    CFS  연결재무제표   \n\n  sj_div  sj_nm account_nm thstrm_nm      thstrm_dt        thstrm_amount  \\\n0     BS  재무상태표       유동자산    제 51 기  2019.12.31 현재  181,385,260,000,000   \n1     BS  재무상태표      비유동자산    제 51 기  2019.12.31 현재  171,179,237,000,000   \n2     BS  재무상태표       자산총계    제 51 기  2019.12.31 현재  352,564,497,000,000   \n3     BS  재무상태표       유동부채    제 51 기  2019.12.31 현재   63,782,764,000,000   \n4     BS  재무상태표      비유동부채    제 51 기  2019.12.31 현재   25,901,312,000,000   \n\n  frmtrm_nm      frmtrm_dt        frmtrm_amount bfefrmtrm_nm   bfefrmtrm_dt  \\\n0    제 50 기  2018.12.31 현재  174,697,424,000,000       제 49 기  2017.12.31 현재   \n1    제 50 기  2018.12.31 현재  164,659,820,000,000       제 49 기  2017.12.31 현재   \n2    제 50 기  2018.12.31 현재  339,357,244,000,000       제 49 기  2017.12.31 현재   \n3    제 50 기  2018.12.31 현재   69,081,510,000,000       제 49 기  2017.12.31 현재   \n4    제 50 기  2018.12.31 현재   22,522,557,000,000       제 49 기  2017.12.31 현재   \n\n      bfefrmtrm_amount ord  \n0  146,982,464,000,000   1  \n1  154,769,626,000,000   3  \n2  301,752,090,000,000   5  \n3   67,175,114,000,000   7  \n4   20,085,548,000,000   9  ",
      "text/html": "<div>\n<style scoped>\n    .dataframe tbody tr th:only-of-type {\n        vertical-align: middle;\n    }\n\n    .dataframe tbody tr th {\n        vertical-align: top;\n    }\n\n    .dataframe thead th {\n        text-align: right;\n    }\n</style>\n<table border=\"1\" class=\"dataframe\">\n  <thead>\n    <tr style=\"text-align: right;\">\n      <th></th>\n      <th>rcept_no</th>\n      <th>reprt_code</th>\n      <th>bsns_year</th>\n      <th>corp_code</th>\n      <th>stock_code</th>\n      <th>fs_div</th>\n      <th>fs_nm</th>\n      <th>sj_div</th>\n      <th>sj_nm</th>\n      <th>account_nm</th>\n      <th>thstrm_nm</th>\n      <th>thstrm_dt</th>\n      <th>thstrm_amount</th>\n      <th>frmtrm_nm</th>\n      <th>frmtrm_dt</th>\n      <th>frmtrm_amount</th>\n      <th>bfefrmtrm_nm</th>\n      <th>bfefrmtrm_dt</th>\n      <th>bfefrmtrm_amount</th>\n      <th>ord</th>\n    </tr>\n  </thead>\n  <tbody>\n    <tr>\n      <th>0</th>\n      <td>20200330003851</td>\n      <td>11011</td>\n      <td>2019</td>\n      <td>00126380</td>\n      <td>005930</td>\n      <td>CFS</td>\n      <td>연결재무제표</td>\n      <td>BS</td>\n      <td>재무상태표</td>\n      <td>유동자산</td>\n      <td>제 51 기</td>\n      <td>2019.12.31 현재</td>\n      <td>181,385,260,000,000</td>\n      <td>제 50 기</td>\n      <td>2018.12.31 현재</td>\n      <td>174,697,424,000,000</td>\n      <td>제 49 기</td>\n      <td>2017.12.31 현재</td>\n      <td>146,982,464,000,000</td>\n      <td>1</td>\n    </tr>\n    <tr>\n      <th>1</th>\n      <td>20200330003851</td>\n      <td>11011</td>\n      <td>2019</td>\n      <td>00126380</td>\n      <td>005930</td>\n      <td>CFS</td>\n      <td>연결재무제표</td>\n      <td>BS</td>\n      <td>재무상태표</td>\n      <td>비유동자산</td>\n      <td>제 51 기</td>\n      <td>2019.12.31 현재</td>\n      <td>171,179,237,000,000</td>\n      <td>제 50 기</td>\n      <td>2018.12.31 현재</td>\n      <td>164,659,820,000,000</td>\n      <td>제 49 기</td>\n      <td>2017.12.31 현재</td>\n      <td>154,769,626,000,000</td>\n      <td>3</td>\n    </tr>\n    <tr>\n      <th>2</th>\n      <td>20200330003851</td>\n      <td>11011</td>\n      <td>2019</td>\n      <td>00126380</td>\n      <td>005930</td>\n      <td>CFS</td>\n      <td>연결재무제표</td>\n      <td>BS</td>\n      <td>재무상태표</td>\n      <td>자산총계</td>\n      <td>제 51 기</td>\n      <td>2019.12.31 현재</td>\n      <td>352,564,497,000,000</td>\n      <td>제 50 기</td>\n      <td>2018.12.31 현재</td>\n      <td>339,357,244,000,000</td>\n      <td>제 49 기</td>\n      <td>2017.12.31 현재</td>\n      <td>301,752,090,000,000</td>\n      <td>5</td>\n    </tr>\n    <tr>\n      <th>3</th>\n      <td>20200330003851</td>\n      <td>11011</td>\n      <td>2019</td>\n      <td>00126380</td>\n      <td>005930</td>\n      <td>CFS</td>\n      <td>연결재무제표</td>\n      <td>BS</td>\n      <td>재무상태표</td>\n      <td>유동부채</td>\n      <td>제 51 기</td>\n      <td>2019.12.31 현재</td>\n      <td>63,782,764,000,000</td>\n      <td>제 50 기</td>\n      <td>2018.12.31 현재</td>\n      <td>69,081,510,000,000</td>\n      <td>제 49 기</td>\n      <td>2017.12.31 현재</td>\n      <td>67,175,114,000,000</td>\n      <td>7</td>\n    </tr>\n    <tr>\n      <th>4</th>\n      <td>20200330003851</td>\n      <td>11011</td>\n      <td>2019</td>\n      <td>00126380</td>\n      <td>005930</td>\n      <td>CFS</td>\n      <td>연결재무제표</td>\n      <td>BS</td>\n      <td>재무상태표</td>\n      <td>비유동부채</td>\n      <td>제 51 기</td>\n      <td>2019.12.31 현재</td>\n      <td>25,901,312,000,000</td>\n      <td>제 50 기</td>\n      <td>2018.12.31 현재</td>\n      <td>22,522,557,000,000</td>\n      <td>제 49 기</td>\n      <td>2017.12.31 현재</td>\n      <td>20,085,548,000,000</td>\n      <td>9</td>\n    </tr>\n  </tbody>\n</table>\n</div>"
     },
     "execution_count": 13,
     "metadata": {},
     "output_type": "execute_result"
    }
   ],
   "source": [
    "results.head()"
   ],
   "metadata": {
    "collapsed": false,
    "pycharm": {
     "name": "#%%\n"
    }
   }
  },
  {
   "cell_type": "markdown",
   "source": [
    "## Data 전처리 코드"
   ],
   "metadata": {
    "collapsed": false,
    "pycharm": {
     "name": "#%% md\n"
    }
   }
  },
  {
   "cell_type": "code",
   "execution_count": 17,
   "outputs": [],
   "source": [
    "results[['thstrm_amount', 'frmtrm_amount', 'bfefrmtrm_amount']] = results[['thstrm_amount', 'frmtrm_amount', 'bfefrmtrm_amount']].apply(lambda x: x.str.replace(',', ''))"
   ],
   "metadata": {
    "collapsed": false,
    "pycharm": {
     "name": "#%%\n"
    }
   }
  },
  {
   "cell_type": "code",
   "execution_count": 18,
   "outputs": [
    {
     "data": {
      "text/plain": "         rcept_no reprt_code bsns_year corp_code stock_code fs_div   fs_nm  \\\n0  20200330003851      11011      2019  00126380     005930    CFS  연결재무제표   \n1  20200330003851      11011      2019  00126380     005930    CFS  연결재무제표   \n2  20200330003851      11011      2019  00126380     005930    CFS  연결재무제표   \n3  20200330003851      11011      2019  00126380     005930    CFS  연결재무제표   \n4  20200330003851      11011      2019  00126380     005930    CFS  연결재무제표   \n\n  sj_div  sj_nm account_nm thstrm_nm      thstrm_dt    thstrm_amount  \\\n0     BS  재무상태표       유동자산    제 51 기  2019.12.31 현재  181385260000000   \n1     BS  재무상태표      비유동자산    제 51 기  2019.12.31 현재  171179237000000   \n2     BS  재무상태표       자산총계    제 51 기  2019.12.31 현재  352564497000000   \n3     BS  재무상태표       유동부채    제 51 기  2019.12.31 현재   63782764000000   \n4     BS  재무상태표      비유동부채    제 51 기  2019.12.31 현재   25901312000000   \n\n  frmtrm_nm      frmtrm_dt    frmtrm_amount bfefrmtrm_nm   bfefrmtrm_dt  \\\n0    제 50 기  2018.12.31 현재  174697424000000       제 49 기  2017.12.31 현재   \n1    제 50 기  2018.12.31 현재  164659820000000       제 49 기  2017.12.31 현재   \n2    제 50 기  2018.12.31 현재  339357244000000       제 49 기  2017.12.31 현재   \n3    제 50 기  2018.12.31 현재   69081510000000       제 49 기  2017.12.31 현재   \n4    제 50 기  2018.12.31 현재   22522557000000       제 49 기  2017.12.31 현재   \n\n  bfefrmtrm_amount ord  \n0  146982464000000   1  \n1  154769626000000   3  \n2  301752090000000   5  \n3   67175114000000   7  \n4   20085548000000   9  ",
      "text/html": "<div>\n<style scoped>\n    .dataframe tbody tr th:only-of-type {\n        vertical-align: middle;\n    }\n\n    .dataframe tbody tr th {\n        vertical-align: top;\n    }\n\n    .dataframe thead th {\n        text-align: right;\n    }\n</style>\n<table border=\"1\" class=\"dataframe\">\n  <thead>\n    <tr style=\"text-align: right;\">\n      <th></th>\n      <th>rcept_no</th>\n      <th>reprt_code</th>\n      <th>bsns_year</th>\n      <th>corp_code</th>\n      <th>stock_code</th>\n      <th>fs_div</th>\n      <th>fs_nm</th>\n      <th>sj_div</th>\n      <th>sj_nm</th>\n      <th>account_nm</th>\n      <th>thstrm_nm</th>\n      <th>thstrm_dt</th>\n      <th>thstrm_amount</th>\n      <th>frmtrm_nm</th>\n      <th>frmtrm_dt</th>\n      <th>frmtrm_amount</th>\n      <th>bfefrmtrm_nm</th>\n      <th>bfefrmtrm_dt</th>\n      <th>bfefrmtrm_amount</th>\n      <th>ord</th>\n    </tr>\n  </thead>\n  <tbody>\n    <tr>\n      <th>0</th>\n      <td>20200330003851</td>\n      <td>11011</td>\n      <td>2019</td>\n      <td>00126380</td>\n      <td>005930</td>\n      <td>CFS</td>\n      <td>연결재무제표</td>\n      <td>BS</td>\n      <td>재무상태표</td>\n      <td>유동자산</td>\n      <td>제 51 기</td>\n      <td>2019.12.31 현재</td>\n      <td>181385260000000</td>\n      <td>제 50 기</td>\n      <td>2018.12.31 현재</td>\n      <td>174697424000000</td>\n      <td>제 49 기</td>\n      <td>2017.12.31 현재</td>\n      <td>146982464000000</td>\n      <td>1</td>\n    </tr>\n    <tr>\n      <th>1</th>\n      <td>20200330003851</td>\n      <td>11011</td>\n      <td>2019</td>\n      <td>00126380</td>\n      <td>005930</td>\n      <td>CFS</td>\n      <td>연결재무제표</td>\n      <td>BS</td>\n      <td>재무상태표</td>\n      <td>비유동자산</td>\n      <td>제 51 기</td>\n      <td>2019.12.31 현재</td>\n      <td>171179237000000</td>\n      <td>제 50 기</td>\n      <td>2018.12.31 현재</td>\n      <td>164659820000000</td>\n      <td>제 49 기</td>\n      <td>2017.12.31 현재</td>\n      <td>154769626000000</td>\n      <td>3</td>\n    </tr>\n    <tr>\n      <th>2</th>\n      <td>20200330003851</td>\n      <td>11011</td>\n      <td>2019</td>\n      <td>00126380</td>\n      <td>005930</td>\n      <td>CFS</td>\n      <td>연결재무제표</td>\n      <td>BS</td>\n      <td>재무상태표</td>\n      <td>자산총계</td>\n      <td>제 51 기</td>\n      <td>2019.12.31 현재</td>\n      <td>352564497000000</td>\n      <td>제 50 기</td>\n      <td>2018.12.31 현재</td>\n      <td>339357244000000</td>\n      <td>제 49 기</td>\n      <td>2017.12.31 현재</td>\n      <td>301752090000000</td>\n      <td>5</td>\n    </tr>\n    <tr>\n      <th>3</th>\n      <td>20200330003851</td>\n      <td>11011</td>\n      <td>2019</td>\n      <td>00126380</td>\n      <td>005930</td>\n      <td>CFS</td>\n      <td>연결재무제표</td>\n      <td>BS</td>\n      <td>재무상태표</td>\n      <td>유동부채</td>\n      <td>제 51 기</td>\n      <td>2019.12.31 현재</td>\n      <td>63782764000000</td>\n      <td>제 50 기</td>\n      <td>2018.12.31 현재</td>\n      <td>69081510000000</td>\n      <td>제 49 기</td>\n      <td>2017.12.31 현재</td>\n      <td>67175114000000</td>\n      <td>7</td>\n    </tr>\n    <tr>\n      <th>4</th>\n      <td>20200330003851</td>\n      <td>11011</td>\n      <td>2019</td>\n      <td>00126380</td>\n      <td>005930</td>\n      <td>CFS</td>\n      <td>연결재무제표</td>\n      <td>BS</td>\n      <td>재무상태표</td>\n      <td>비유동부채</td>\n      <td>제 51 기</td>\n      <td>2019.12.31 현재</td>\n      <td>25901312000000</td>\n      <td>제 50 기</td>\n      <td>2018.12.31 현재</td>\n      <td>22522557000000</td>\n      <td>제 49 기</td>\n      <td>2017.12.31 현재</td>\n      <td>20085548000000</td>\n      <td>9</td>\n    </tr>\n  </tbody>\n</table>\n</div>"
     },
     "execution_count": 18,
     "metadata": {},
     "output_type": "execute_result"
    }
   ],
   "source": [
    "results.head()"
   ],
   "metadata": {
    "collapsed": false,
    "pycharm": {
     "name": "#%%\n"
    }
   }
  },
  {
   "cell_type": "code",
   "execution_count": 25,
   "outputs": [
    {
     "name": "stderr",
     "output_type": "stream",
     "text": [
      "/var/folders/bf/dp257x4n37v0f5y_4k2dbglr0000gn/T/ipykernel_79237/4063115898.py:2: FutureWarning: The default value of regex will change from True to False in a future version. In addition, single character regular expressions will *not* be treated as literal strings when regex=True.\n",
      "  results[['thstrm_dt', 'frmtrm_dt', 'bfefrmtrm_dt']] = results[['thstrm_dt', 'frmtrm_dt', 'bfefrmtrm_dt']].apply(lambda x: x.str.replace('.', '/'))\n"
     ]
    }
   ],
   "source": [
    "results[['thstrm_dt', 'frmtrm_dt', 'bfefrmtrm_dt']] = results[['thstrm_dt', 'frmtrm_dt', 'bfefrmtrm_dt']].apply(lambda x: x.str.replace('현재', ''))\n",
    "results[['thstrm_dt', 'frmtrm_dt', 'bfefrmtrm_dt']] = results[['thstrm_dt', 'frmtrm_dt', 'bfefrmtrm_dt']].apply(lambda x: x.str.replace('.', '/'))"
   ],
   "metadata": {
    "collapsed": false,
    "pycharm": {
     "name": "#%%\n"
    }
   }
  },
  {
   "cell_type": "code",
   "execution_count": 26,
   "outputs": [
    {
     "data": {
      "text/plain": "          rcept_no reprt_code bsns_year corp_code stock_code fs_div   fs_nm  \\\n0   20200330003851      11011      2019  00126380     005930    CFS  연결재무제표   \n1   20200330003851      11011      2019  00126380     005930    CFS  연결재무제표   \n2   20200330003851      11011      2019  00126380     005930    CFS  연결재무제표   \n3   20200330003851      11011      2019  00126380     005930    CFS  연결재무제표   \n4   20200330003851      11011      2019  00126380     005930    CFS  연결재무제표   \n5   20200330003851      11011      2019  00126380     005930    CFS  연결재무제표   \n6   20200330003851      11011      2019  00126380     005930    CFS  연결재무제표   \n7   20200330003851      11011      2019  00126380     005930    CFS  연결재무제표   \n8   20200330003851      11011      2019  00126380     005930    CFS  연결재무제표   \n9   20200330003851      11011      2019  00126380     005930    CFS  연결재무제표   \n10  20200330003851      11011      2019  00126380     005930    CFS  연결재무제표   \n11  20200330003851      11011      2019  00126380     005930    CFS  연결재무제표   \n12  20200330003851      11011      2019  00126380     005930    CFS  연결재무제표   \n13  20200330003851      11011      2019  00126380     005930    OFS    재무제표   \n14  20200330003851      11011      2019  00126380     005930    OFS    재무제표   \n15  20200330003851      11011      2019  00126380     005930    OFS    재무제표   \n16  20200330003851      11011      2019  00126380     005930    OFS    재무제표   \n17  20200330003851      11011      2019  00126380     005930    OFS    재무제표   \n18  20200330003851      11011      2019  00126380     005930    OFS    재무제표   \n19  20200330003851      11011      2019  00126380     005930    OFS    재무제표   \n20  20200330003851      11011      2019  00126380     005930    OFS    재무제표   \n21  20200330003851      11011      2019  00126380     005930    OFS    재무제표   \n22  20200330003851      11011      2019  00126380     005930    OFS    재무제표   \n23  20200330003851      11011      2019  00126380     005930    OFS    재무제표   \n24  20200330003851      11011      2019  00126380     005930    OFS    재무제표   \n25  20200330003851      11011      2019  00126380     005930    OFS    재무제표   \n\n   sj_div  sj_nm  account_nm thstrm_nm                thstrm_dt  \\\n0      BS  재무상태표        유동자산    제 51 기              2019/12/31    \n1      BS  재무상태표       비유동자산    제 51 기              2019/12/31    \n2      BS  재무상태표        자산총계    제 51 기              2019/12/31    \n3      BS  재무상태표        유동부채    제 51 기              2019/12/31    \n4      BS  재무상태표       비유동부채    제 51 기              2019/12/31    \n5      BS  재무상태표        부채총계    제 51 기              2019/12/31    \n6      BS  재무상태표         자본금    제 51 기              2019/12/31    \n7      BS  재무상태표       이익잉여금    제 51 기              2019/12/31    \n8      BS  재무상태표        자본총계    제 51 기              2019/12/31    \n9      IS  손익계산서         매출액    제 51 기  2019/01/01 ~ 2019/12/31   \n10     IS  손익계산서        영업이익    제 51 기  2019/01/01 ~ 2019/12/31   \n11     IS  손익계산서  법인세차감전 순이익    제 51 기  2019/01/01 ~ 2019/12/31   \n12     IS  손익계산서       당기순이익    제 51 기  2019/01/01 ~ 2019/12/31   \n13     BS  재무상태표        유동자산    제 51 기              2019/12/31    \n14     BS  재무상태표       비유동자산    제 51 기              2019/12/31    \n15     BS  재무상태표        자산총계    제 51 기              2019/12/31    \n16     BS  재무상태표        유동부채    제 51 기              2019/12/31    \n17     BS  재무상태표       비유동부채    제 51 기              2019/12/31    \n18     BS  재무상태표        부채총계    제 51 기              2019/12/31    \n19     BS  재무상태표         자본금    제 51 기              2019/12/31    \n20     BS  재무상태표       이익잉여금    제 51 기              2019/12/31    \n21     BS  재무상태표        자본총계    제 51 기              2019/12/31    \n22     IS  손익계산서         매출액    제 51 기  2019/01/01 ~ 2019/12/31   \n23     IS  손익계산서        영업이익    제 51 기  2019/01/01 ~ 2019/12/31   \n24     IS  손익계산서  법인세차감전 순이익    제 51 기  2019/01/01 ~ 2019/12/31   \n25     IS  손익계산서       당기순이익    제 51 기  2019/01/01 ~ 2019/12/31   \n\n      thstrm_amount frmtrm_nm                frmtrm_dt    frmtrm_amount  \\\n0   181385260000000    제 50 기              2018/12/31   174697424000000   \n1   171179237000000    제 50 기              2018/12/31   164659820000000   \n2   352564497000000    제 50 기              2018/12/31   339357244000000   \n3    63782764000000    제 50 기              2018/12/31    69081510000000   \n4    25901312000000    제 50 기              2018/12/31    22522557000000   \n5    89684076000000    제 50 기              2018/12/31    91604067000000   \n6      897514000000    제 50 기              2018/12/31      897514000000   \n7   254582894000000    제 50 기              2018/12/31   242698956000000   \n8   262880421000000    제 50 기              2018/12/31   247753177000000   \n9   230400881000000    제 50 기  2018/01/01 ~ 2018/12/31  243771415000000   \n10   27768509000000    제 50 기  2018/01/01 ~ 2018/12/31   58886669000000   \n11   30432189000000    제 50 기  2018/01/01 ~ 2018/12/31   61159958000000   \n12   21738865000000    제 50 기  2018/01/01 ~ 2018/12/31   44344857000000   \n13   72659080000000    제 50 기              2018/12/31    80039455000000   \n14  143521840000000    제 50 기              2018/12/31   138981902000000   \n15  216180920000000    제 50 기              2018/12/31   219021357000000   \n16   36237164000000    제 50 기              2018/12/31    43145053000000   \n17    2073509000000    제 50 기              2018/12/31     2888179000000   \n18   38310673000000    제 50 기              2018/12/31    46033232000000   \n19     897514000000    제 50 기              2018/12/31      897514000000   \n20  172288326000000    제 50 기              2018/12/31   166555532000000   \n21  177870247000000    제 50 기              2018/12/31   172988125000000   \n22  154772859000000    제 50 기  2018/01/01 ~ 2018/12/31  170381870000000   \n23   14115067000000    제 50 기  2018/01/01 ~ 2018/12/31   43699451000000   \n24   19032469000000    제 50 기  2018/01/01 ~ 2018/12/31   44398855000000   \n25   15353323000000    제 50 기  2018/01/01 ~ 2018/12/31   32815127000000   \n\n   bfefrmtrm_nm             bfefrmtrm_dt bfefrmtrm_amount ord  \n0        제 49 기              2017/12/31   146982464000000   1  \n1        제 49 기              2017/12/31   154769626000000   3  \n2        제 49 기              2017/12/31   301752090000000   5  \n3        제 49 기              2017/12/31    67175114000000   7  \n4        제 49 기              2017/12/31    20085548000000   9  \n5        제 49 기              2017/12/31    87260662000000  11  \n6        제 49 기              2017/12/31      897514000000  13  \n7        제 49 기              2017/12/31   215811200000000  17  \n8        제 49 기              2017/12/31   214491428000000  21  \n9        제 49 기  2017/01/01 ~ 2017/12/31  239575376000000  23  \n10       제 49 기  2017/01/01 ~ 2017/12/31   53645038000000  25  \n11       제 49 기  2017/01/01 ~ 2017/12/31   56195967000000  27  \n12       제 49 기  2017/01/01 ~ 2017/12/31   42186747000000  29  \n13       제 49 기              2017/12/31    70155189000000   2  \n14       제 49 기              2017/12/31   128086171000000   4  \n15       제 49 기              2017/12/31   198241360000000   6  \n16       제 49 기              2017/12/31    44495084000000   8  \n17       제 49 기              2017/12/31     2176501000000  10  \n18       제 49 기              2017/12/31    46671585000000  12  \n19       제 49 기              2017/12/31      897514000000  15  \n20       제 49 기              2017/12/31   150928724000000  19  \n21       제 49 기              2017/12/31   151569775000000  22  \n22       제 49 기  2017/01/01 ~ 2017/12/31  161915007000000  24  \n23       제 49 기  2017/01/01 ~ 2017/12/31   34857091000000  26  \n24       제 49 기  2017/01/01 ~ 2017/12/31   36533552000000  28  \n25       제 49 기  2017/01/01 ~ 2017/12/31   28800837000000  30  ",
      "text/html": "<div>\n<style scoped>\n    .dataframe tbody tr th:only-of-type {\n        vertical-align: middle;\n    }\n\n    .dataframe tbody tr th {\n        vertical-align: top;\n    }\n\n    .dataframe thead th {\n        text-align: right;\n    }\n</style>\n<table border=\"1\" class=\"dataframe\">\n  <thead>\n    <tr style=\"text-align: right;\">\n      <th></th>\n      <th>rcept_no</th>\n      <th>reprt_code</th>\n      <th>bsns_year</th>\n      <th>corp_code</th>\n      <th>stock_code</th>\n      <th>fs_div</th>\n      <th>fs_nm</th>\n      <th>sj_div</th>\n      <th>sj_nm</th>\n      <th>account_nm</th>\n      <th>thstrm_nm</th>\n      <th>thstrm_dt</th>\n      <th>thstrm_amount</th>\n      <th>frmtrm_nm</th>\n      <th>frmtrm_dt</th>\n      <th>frmtrm_amount</th>\n      <th>bfefrmtrm_nm</th>\n      <th>bfefrmtrm_dt</th>\n      <th>bfefrmtrm_amount</th>\n      <th>ord</th>\n    </tr>\n  </thead>\n  <tbody>\n    <tr>\n      <th>0</th>\n      <td>20200330003851</td>\n      <td>11011</td>\n      <td>2019</td>\n      <td>00126380</td>\n      <td>005930</td>\n      <td>CFS</td>\n      <td>연결재무제표</td>\n      <td>BS</td>\n      <td>재무상태표</td>\n      <td>유동자산</td>\n      <td>제 51 기</td>\n      <td>2019/12/31</td>\n      <td>181385260000000</td>\n      <td>제 50 기</td>\n      <td>2018/12/31</td>\n      <td>174697424000000</td>\n      <td>제 49 기</td>\n      <td>2017/12/31</td>\n      <td>146982464000000</td>\n      <td>1</td>\n    </tr>\n    <tr>\n      <th>1</th>\n      <td>20200330003851</td>\n      <td>11011</td>\n      <td>2019</td>\n      <td>00126380</td>\n      <td>005930</td>\n      <td>CFS</td>\n      <td>연결재무제표</td>\n      <td>BS</td>\n      <td>재무상태표</td>\n      <td>비유동자산</td>\n      <td>제 51 기</td>\n      <td>2019/12/31</td>\n      <td>171179237000000</td>\n      <td>제 50 기</td>\n      <td>2018/12/31</td>\n      <td>164659820000000</td>\n      <td>제 49 기</td>\n      <td>2017/12/31</td>\n      <td>154769626000000</td>\n      <td>3</td>\n    </tr>\n    <tr>\n      <th>2</th>\n      <td>20200330003851</td>\n      <td>11011</td>\n      <td>2019</td>\n      <td>00126380</td>\n      <td>005930</td>\n      <td>CFS</td>\n      <td>연결재무제표</td>\n      <td>BS</td>\n      <td>재무상태표</td>\n      <td>자산총계</td>\n      <td>제 51 기</td>\n      <td>2019/12/31</td>\n      <td>352564497000000</td>\n      <td>제 50 기</td>\n      <td>2018/12/31</td>\n      <td>339357244000000</td>\n      <td>제 49 기</td>\n      <td>2017/12/31</td>\n      <td>301752090000000</td>\n      <td>5</td>\n    </tr>\n    <tr>\n      <th>3</th>\n      <td>20200330003851</td>\n      <td>11011</td>\n      <td>2019</td>\n      <td>00126380</td>\n      <td>005930</td>\n      <td>CFS</td>\n      <td>연결재무제표</td>\n      <td>BS</td>\n      <td>재무상태표</td>\n      <td>유동부채</td>\n      <td>제 51 기</td>\n      <td>2019/12/31</td>\n      <td>63782764000000</td>\n      <td>제 50 기</td>\n      <td>2018/12/31</td>\n      <td>69081510000000</td>\n      <td>제 49 기</td>\n      <td>2017/12/31</td>\n      <td>67175114000000</td>\n      <td>7</td>\n    </tr>\n    <tr>\n      <th>4</th>\n      <td>20200330003851</td>\n      <td>11011</td>\n      <td>2019</td>\n      <td>00126380</td>\n      <td>005930</td>\n      <td>CFS</td>\n      <td>연결재무제표</td>\n      <td>BS</td>\n      <td>재무상태표</td>\n      <td>비유동부채</td>\n      <td>제 51 기</td>\n      <td>2019/12/31</td>\n      <td>25901312000000</td>\n      <td>제 50 기</td>\n      <td>2018/12/31</td>\n      <td>22522557000000</td>\n      <td>제 49 기</td>\n      <td>2017/12/31</td>\n      <td>20085548000000</td>\n      <td>9</td>\n    </tr>\n    <tr>\n      <th>5</th>\n      <td>20200330003851</td>\n      <td>11011</td>\n      <td>2019</td>\n      <td>00126380</td>\n      <td>005930</td>\n      <td>CFS</td>\n      <td>연결재무제표</td>\n      <td>BS</td>\n      <td>재무상태표</td>\n      <td>부채총계</td>\n      <td>제 51 기</td>\n      <td>2019/12/31</td>\n      <td>89684076000000</td>\n      <td>제 50 기</td>\n      <td>2018/12/31</td>\n      <td>91604067000000</td>\n      <td>제 49 기</td>\n      <td>2017/12/31</td>\n      <td>87260662000000</td>\n      <td>11</td>\n    </tr>\n    <tr>\n      <th>6</th>\n      <td>20200330003851</td>\n      <td>11011</td>\n      <td>2019</td>\n      <td>00126380</td>\n      <td>005930</td>\n      <td>CFS</td>\n      <td>연결재무제표</td>\n      <td>BS</td>\n      <td>재무상태표</td>\n      <td>자본금</td>\n      <td>제 51 기</td>\n      <td>2019/12/31</td>\n      <td>897514000000</td>\n      <td>제 50 기</td>\n      <td>2018/12/31</td>\n      <td>897514000000</td>\n      <td>제 49 기</td>\n      <td>2017/12/31</td>\n      <td>897514000000</td>\n      <td>13</td>\n    </tr>\n    <tr>\n      <th>7</th>\n      <td>20200330003851</td>\n      <td>11011</td>\n      <td>2019</td>\n      <td>00126380</td>\n      <td>005930</td>\n      <td>CFS</td>\n      <td>연결재무제표</td>\n      <td>BS</td>\n      <td>재무상태표</td>\n      <td>이익잉여금</td>\n      <td>제 51 기</td>\n      <td>2019/12/31</td>\n      <td>254582894000000</td>\n      <td>제 50 기</td>\n      <td>2018/12/31</td>\n      <td>242698956000000</td>\n      <td>제 49 기</td>\n      <td>2017/12/31</td>\n      <td>215811200000000</td>\n      <td>17</td>\n    </tr>\n    <tr>\n      <th>8</th>\n      <td>20200330003851</td>\n      <td>11011</td>\n      <td>2019</td>\n      <td>00126380</td>\n      <td>005930</td>\n      <td>CFS</td>\n      <td>연결재무제표</td>\n      <td>BS</td>\n      <td>재무상태표</td>\n      <td>자본총계</td>\n      <td>제 51 기</td>\n      <td>2019/12/31</td>\n      <td>262880421000000</td>\n      <td>제 50 기</td>\n      <td>2018/12/31</td>\n      <td>247753177000000</td>\n      <td>제 49 기</td>\n      <td>2017/12/31</td>\n      <td>214491428000000</td>\n      <td>21</td>\n    </tr>\n    <tr>\n      <th>9</th>\n      <td>20200330003851</td>\n      <td>11011</td>\n      <td>2019</td>\n      <td>00126380</td>\n      <td>005930</td>\n      <td>CFS</td>\n      <td>연결재무제표</td>\n      <td>IS</td>\n      <td>손익계산서</td>\n      <td>매출액</td>\n      <td>제 51 기</td>\n      <td>2019/01/01 ~ 2019/12/31</td>\n      <td>230400881000000</td>\n      <td>제 50 기</td>\n      <td>2018/01/01 ~ 2018/12/31</td>\n      <td>243771415000000</td>\n      <td>제 49 기</td>\n      <td>2017/01/01 ~ 2017/12/31</td>\n      <td>239575376000000</td>\n      <td>23</td>\n    </tr>\n    <tr>\n      <th>10</th>\n      <td>20200330003851</td>\n      <td>11011</td>\n      <td>2019</td>\n      <td>00126380</td>\n      <td>005930</td>\n      <td>CFS</td>\n      <td>연결재무제표</td>\n      <td>IS</td>\n      <td>손익계산서</td>\n      <td>영업이익</td>\n      <td>제 51 기</td>\n      <td>2019/01/01 ~ 2019/12/31</td>\n      <td>27768509000000</td>\n      <td>제 50 기</td>\n      <td>2018/01/01 ~ 2018/12/31</td>\n      <td>58886669000000</td>\n      <td>제 49 기</td>\n      <td>2017/01/01 ~ 2017/12/31</td>\n      <td>53645038000000</td>\n      <td>25</td>\n    </tr>\n    <tr>\n      <th>11</th>\n      <td>20200330003851</td>\n      <td>11011</td>\n      <td>2019</td>\n      <td>00126380</td>\n      <td>005930</td>\n      <td>CFS</td>\n      <td>연결재무제표</td>\n      <td>IS</td>\n      <td>손익계산서</td>\n      <td>법인세차감전 순이익</td>\n      <td>제 51 기</td>\n      <td>2019/01/01 ~ 2019/12/31</td>\n      <td>30432189000000</td>\n      <td>제 50 기</td>\n      <td>2018/01/01 ~ 2018/12/31</td>\n      <td>61159958000000</td>\n      <td>제 49 기</td>\n      <td>2017/01/01 ~ 2017/12/31</td>\n      <td>56195967000000</td>\n      <td>27</td>\n    </tr>\n    <tr>\n      <th>12</th>\n      <td>20200330003851</td>\n      <td>11011</td>\n      <td>2019</td>\n      <td>00126380</td>\n      <td>005930</td>\n      <td>CFS</td>\n      <td>연결재무제표</td>\n      <td>IS</td>\n      <td>손익계산서</td>\n      <td>당기순이익</td>\n      <td>제 51 기</td>\n      <td>2019/01/01 ~ 2019/12/31</td>\n      <td>21738865000000</td>\n      <td>제 50 기</td>\n      <td>2018/01/01 ~ 2018/12/31</td>\n      <td>44344857000000</td>\n      <td>제 49 기</td>\n      <td>2017/01/01 ~ 2017/12/31</td>\n      <td>42186747000000</td>\n      <td>29</td>\n    </tr>\n    <tr>\n      <th>13</th>\n      <td>20200330003851</td>\n      <td>11011</td>\n      <td>2019</td>\n      <td>00126380</td>\n      <td>005930</td>\n      <td>OFS</td>\n      <td>재무제표</td>\n      <td>BS</td>\n      <td>재무상태표</td>\n      <td>유동자산</td>\n      <td>제 51 기</td>\n      <td>2019/12/31</td>\n      <td>72659080000000</td>\n      <td>제 50 기</td>\n      <td>2018/12/31</td>\n      <td>80039455000000</td>\n      <td>제 49 기</td>\n      <td>2017/12/31</td>\n      <td>70155189000000</td>\n      <td>2</td>\n    </tr>\n    <tr>\n      <th>14</th>\n      <td>20200330003851</td>\n      <td>11011</td>\n      <td>2019</td>\n      <td>00126380</td>\n      <td>005930</td>\n      <td>OFS</td>\n      <td>재무제표</td>\n      <td>BS</td>\n      <td>재무상태표</td>\n      <td>비유동자산</td>\n      <td>제 51 기</td>\n      <td>2019/12/31</td>\n      <td>143521840000000</td>\n      <td>제 50 기</td>\n      <td>2018/12/31</td>\n      <td>138981902000000</td>\n      <td>제 49 기</td>\n      <td>2017/12/31</td>\n      <td>128086171000000</td>\n      <td>4</td>\n    </tr>\n    <tr>\n      <th>15</th>\n      <td>20200330003851</td>\n      <td>11011</td>\n      <td>2019</td>\n      <td>00126380</td>\n      <td>005930</td>\n      <td>OFS</td>\n      <td>재무제표</td>\n      <td>BS</td>\n      <td>재무상태표</td>\n      <td>자산총계</td>\n      <td>제 51 기</td>\n      <td>2019/12/31</td>\n      <td>216180920000000</td>\n      <td>제 50 기</td>\n      <td>2018/12/31</td>\n      <td>219021357000000</td>\n      <td>제 49 기</td>\n      <td>2017/12/31</td>\n      <td>198241360000000</td>\n      <td>6</td>\n    </tr>\n    <tr>\n      <th>16</th>\n      <td>20200330003851</td>\n      <td>11011</td>\n      <td>2019</td>\n      <td>00126380</td>\n      <td>005930</td>\n      <td>OFS</td>\n      <td>재무제표</td>\n      <td>BS</td>\n      <td>재무상태표</td>\n      <td>유동부채</td>\n      <td>제 51 기</td>\n      <td>2019/12/31</td>\n      <td>36237164000000</td>\n      <td>제 50 기</td>\n      <td>2018/12/31</td>\n      <td>43145053000000</td>\n      <td>제 49 기</td>\n      <td>2017/12/31</td>\n      <td>44495084000000</td>\n      <td>8</td>\n    </tr>\n    <tr>\n      <th>17</th>\n      <td>20200330003851</td>\n      <td>11011</td>\n      <td>2019</td>\n      <td>00126380</td>\n      <td>005930</td>\n      <td>OFS</td>\n      <td>재무제표</td>\n      <td>BS</td>\n      <td>재무상태표</td>\n      <td>비유동부채</td>\n      <td>제 51 기</td>\n      <td>2019/12/31</td>\n      <td>2073509000000</td>\n      <td>제 50 기</td>\n      <td>2018/12/31</td>\n      <td>2888179000000</td>\n      <td>제 49 기</td>\n      <td>2017/12/31</td>\n      <td>2176501000000</td>\n      <td>10</td>\n    </tr>\n    <tr>\n      <th>18</th>\n      <td>20200330003851</td>\n      <td>11011</td>\n      <td>2019</td>\n      <td>00126380</td>\n      <td>005930</td>\n      <td>OFS</td>\n      <td>재무제표</td>\n      <td>BS</td>\n      <td>재무상태표</td>\n      <td>부채총계</td>\n      <td>제 51 기</td>\n      <td>2019/12/31</td>\n      <td>38310673000000</td>\n      <td>제 50 기</td>\n      <td>2018/12/31</td>\n      <td>46033232000000</td>\n      <td>제 49 기</td>\n      <td>2017/12/31</td>\n      <td>46671585000000</td>\n      <td>12</td>\n    </tr>\n    <tr>\n      <th>19</th>\n      <td>20200330003851</td>\n      <td>11011</td>\n      <td>2019</td>\n      <td>00126380</td>\n      <td>005930</td>\n      <td>OFS</td>\n      <td>재무제표</td>\n      <td>BS</td>\n      <td>재무상태표</td>\n      <td>자본금</td>\n      <td>제 51 기</td>\n      <td>2019/12/31</td>\n      <td>897514000000</td>\n      <td>제 50 기</td>\n      <td>2018/12/31</td>\n      <td>897514000000</td>\n      <td>제 49 기</td>\n      <td>2017/12/31</td>\n      <td>897514000000</td>\n      <td>15</td>\n    </tr>\n    <tr>\n      <th>20</th>\n      <td>20200330003851</td>\n      <td>11011</td>\n      <td>2019</td>\n      <td>00126380</td>\n      <td>005930</td>\n      <td>OFS</td>\n      <td>재무제표</td>\n      <td>BS</td>\n      <td>재무상태표</td>\n      <td>이익잉여금</td>\n      <td>제 51 기</td>\n      <td>2019/12/31</td>\n      <td>172288326000000</td>\n      <td>제 50 기</td>\n      <td>2018/12/31</td>\n      <td>166555532000000</td>\n      <td>제 49 기</td>\n      <td>2017/12/31</td>\n      <td>150928724000000</td>\n      <td>19</td>\n    </tr>\n    <tr>\n      <th>21</th>\n      <td>20200330003851</td>\n      <td>11011</td>\n      <td>2019</td>\n      <td>00126380</td>\n      <td>005930</td>\n      <td>OFS</td>\n      <td>재무제표</td>\n      <td>BS</td>\n      <td>재무상태표</td>\n      <td>자본총계</td>\n      <td>제 51 기</td>\n      <td>2019/12/31</td>\n      <td>177870247000000</td>\n      <td>제 50 기</td>\n      <td>2018/12/31</td>\n      <td>172988125000000</td>\n      <td>제 49 기</td>\n      <td>2017/12/31</td>\n      <td>151569775000000</td>\n      <td>22</td>\n    </tr>\n    <tr>\n      <th>22</th>\n      <td>20200330003851</td>\n      <td>11011</td>\n      <td>2019</td>\n      <td>00126380</td>\n      <td>005930</td>\n      <td>OFS</td>\n      <td>재무제표</td>\n      <td>IS</td>\n      <td>손익계산서</td>\n      <td>매출액</td>\n      <td>제 51 기</td>\n      <td>2019/01/01 ~ 2019/12/31</td>\n      <td>154772859000000</td>\n      <td>제 50 기</td>\n      <td>2018/01/01 ~ 2018/12/31</td>\n      <td>170381870000000</td>\n      <td>제 49 기</td>\n      <td>2017/01/01 ~ 2017/12/31</td>\n      <td>161915007000000</td>\n      <td>24</td>\n    </tr>\n    <tr>\n      <th>23</th>\n      <td>20200330003851</td>\n      <td>11011</td>\n      <td>2019</td>\n      <td>00126380</td>\n      <td>005930</td>\n      <td>OFS</td>\n      <td>재무제표</td>\n      <td>IS</td>\n      <td>손익계산서</td>\n      <td>영업이익</td>\n      <td>제 51 기</td>\n      <td>2019/01/01 ~ 2019/12/31</td>\n      <td>14115067000000</td>\n      <td>제 50 기</td>\n      <td>2018/01/01 ~ 2018/12/31</td>\n      <td>43699451000000</td>\n      <td>제 49 기</td>\n      <td>2017/01/01 ~ 2017/12/31</td>\n      <td>34857091000000</td>\n      <td>26</td>\n    </tr>\n    <tr>\n      <th>24</th>\n      <td>20200330003851</td>\n      <td>11011</td>\n      <td>2019</td>\n      <td>00126380</td>\n      <td>005930</td>\n      <td>OFS</td>\n      <td>재무제표</td>\n      <td>IS</td>\n      <td>손익계산서</td>\n      <td>법인세차감전 순이익</td>\n      <td>제 51 기</td>\n      <td>2019/01/01 ~ 2019/12/31</td>\n      <td>19032469000000</td>\n      <td>제 50 기</td>\n      <td>2018/01/01 ~ 2018/12/31</td>\n      <td>44398855000000</td>\n      <td>제 49 기</td>\n      <td>2017/01/01 ~ 2017/12/31</td>\n      <td>36533552000000</td>\n      <td>28</td>\n    </tr>\n    <tr>\n      <th>25</th>\n      <td>20200330003851</td>\n      <td>11011</td>\n      <td>2019</td>\n      <td>00126380</td>\n      <td>005930</td>\n      <td>OFS</td>\n      <td>재무제표</td>\n      <td>IS</td>\n      <td>손익계산서</td>\n      <td>당기순이익</td>\n      <td>제 51 기</td>\n      <td>2019/01/01 ~ 2019/12/31</td>\n      <td>15353323000000</td>\n      <td>제 50 기</td>\n      <td>2018/01/01 ~ 2018/12/31</td>\n      <td>32815127000000</td>\n      <td>제 49 기</td>\n      <td>2017/01/01 ~ 2017/12/31</td>\n      <td>28800837000000</td>\n      <td>30</td>\n    </tr>\n  </tbody>\n</table>\n</div>"
     },
     "execution_count": 26,
     "metadata": {},
     "output_type": "execute_result"
    }
   ],
   "source": [
    "results"
   ],
   "metadata": {
    "collapsed": false,
    "pycharm": {
     "name": "#%%\n"
    }
   }
  },
  {
   "cell_type": "code",
   "execution_count": 33,
   "outputs": [
    {
     "ename": "ValueError",
     "evalue": "pattern contains no capture groups",
     "output_type": "error",
     "traceback": [
      "\u001B[0;31m---------------------------------------------------------------------------\u001B[0m",
      "\u001B[0;31mValueError\u001B[0m                                Traceback (most recent call last)",
      "Input \u001B[0;32mIn [33]\u001B[0m, in \u001B[0;36m<cell line: 1>\u001B[0;34m()\u001B[0m\n\u001B[0;32m----> 1\u001B[0m results[\u001B[43mresults\u001B[49m\u001B[43m[\u001B[49m\u001B[38;5;124;43m'\u001B[39;49m\u001B[38;5;124;43mfrmtrm_dt\u001B[39;49m\u001B[38;5;124;43m'\u001B[39;49m\u001B[43m]\u001B[49m\u001B[38;5;241;43m.\u001B[39;49m\u001B[43mstr\u001B[49m\u001B[38;5;241;43m.\u001B[39;49m\u001B[43mextract\u001B[49m\u001B[43m(\u001B[49m\u001B[38;5;124;43mr\u001B[39;49m\u001B[38;5;124;43m'\u001B[39;49m\u001B[38;5;124;43m~\u001B[39;49m\u001B[38;5;124;43m'\u001B[39;49m\u001B[43m)\u001B[49m]\n",
      "File \u001B[0;32m~/miniforge3/envs/SingularityRestServer/lib/python3.8/site-packages/pandas/core/strings/accessor.py:125\u001B[0m, in \u001B[0;36mforbid_nonstring_types.<locals>._forbid_nonstring_types.<locals>.wrapper\u001B[0;34m(self, *args, **kwargs)\u001B[0m\n\u001B[1;32m    120\u001B[0m     msg \u001B[38;5;241m=\u001B[39m (\n\u001B[1;32m    121\u001B[0m         \u001B[38;5;124mf\u001B[39m\u001B[38;5;124m\"\u001B[39m\u001B[38;5;124mCannot use .str.\u001B[39m\u001B[38;5;132;01m{\u001B[39;00mfunc_name\u001B[38;5;132;01m}\u001B[39;00m\u001B[38;5;124m with values of \u001B[39m\u001B[38;5;124m\"\u001B[39m\n\u001B[1;32m    122\u001B[0m         \u001B[38;5;124mf\u001B[39m\u001B[38;5;124m\"\u001B[39m\u001B[38;5;124minferred dtype \u001B[39m\u001B[38;5;124m'\u001B[39m\u001B[38;5;132;01m{\u001B[39;00m\u001B[38;5;28mself\u001B[39m\u001B[38;5;241m.\u001B[39m_inferred_dtype\u001B[38;5;132;01m}\u001B[39;00m\u001B[38;5;124m'\u001B[39m\u001B[38;5;124m.\u001B[39m\u001B[38;5;124m\"\u001B[39m\n\u001B[1;32m    123\u001B[0m     )\n\u001B[1;32m    124\u001B[0m     \u001B[38;5;28;01mraise\u001B[39;00m \u001B[38;5;167;01mTypeError\u001B[39;00m(msg)\n\u001B[0;32m--> 125\u001B[0m \u001B[38;5;28;01mreturn\u001B[39;00m \u001B[43mfunc\u001B[49m\u001B[43m(\u001B[49m\u001B[38;5;28;43mself\u001B[39;49m\u001B[43m,\u001B[49m\u001B[43m \u001B[49m\u001B[38;5;241;43m*\u001B[39;49m\u001B[43margs\u001B[49m\u001B[43m,\u001B[49m\u001B[43m \u001B[49m\u001B[38;5;241;43m*\u001B[39;49m\u001B[38;5;241;43m*\u001B[39;49m\u001B[43mkwargs\u001B[49m\u001B[43m)\u001B[49m\n",
      "File \u001B[0;32m~/miniforge3/envs/SingularityRestServer/lib/python3.8/site-packages/pandas/core/strings/accessor.py:2529\u001B[0m, in \u001B[0;36mStringMethods.extract\u001B[0;34m(self, pat, flags, expand)\u001B[0m\n\u001B[1;32m   2527\u001B[0m regex \u001B[38;5;241m=\u001B[39m re\u001B[38;5;241m.\u001B[39mcompile(pat, flags\u001B[38;5;241m=\u001B[39mflags)\n\u001B[1;32m   2528\u001B[0m \u001B[38;5;28;01mif\u001B[39;00m regex\u001B[38;5;241m.\u001B[39mgroups \u001B[38;5;241m==\u001B[39m \u001B[38;5;241m0\u001B[39m:\n\u001B[0;32m-> 2529\u001B[0m     \u001B[38;5;28;01mraise\u001B[39;00m \u001B[38;5;167;01mValueError\u001B[39;00m(\u001B[38;5;124m\"\u001B[39m\u001B[38;5;124mpattern contains no capture groups\u001B[39m\u001B[38;5;124m\"\u001B[39m)\n\u001B[1;32m   2531\u001B[0m \u001B[38;5;28;01mif\u001B[39;00m \u001B[38;5;129;01mnot\u001B[39;00m expand \u001B[38;5;129;01mand\u001B[39;00m regex\u001B[38;5;241m.\u001B[39mgroups \u001B[38;5;241m>\u001B[39m \u001B[38;5;241m1\u001B[39m \u001B[38;5;129;01mand\u001B[39;00m \u001B[38;5;28misinstance\u001B[39m(\u001B[38;5;28mself\u001B[39m\u001B[38;5;241m.\u001B[39m_data, ABCIndex):\n\u001B[1;32m   2532\u001B[0m     \u001B[38;5;28;01mraise\u001B[39;00m \u001B[38;5;167;01mValueError\u001B[39;00m(\u001B[38;5;124m\"\u001B[39m\u001B[38;5;124monly one regex group is supported with Index\u001B[39m\u001B[38;5;124m\"\u001B[39m)\n",
      "\u001B[0;31mValueError\u001B[0m: pattern contains no capture groups"
     ]
    }
   ],
   "source": [
    "results[results['frmtrm_dt'].str.extract()]"
   ],
   "metadata": {
    "collapsed": false,
    "pycharm": {
     "name": "#%%\n"
    }
   }
  },
  {
   "cell_type": "code",
   "execution_count": null,
   "outputs": [],
   "source": [],
   "metadata": {
    "collapsed": false,
    "pycharm": {
     "name": "#%%\n"
    }
   }
  }
 ],
 "metadata": {
  "kernelspec": {
   "display_name": "Python 3",
   "language": "python",
   "name": "python3"
  },
  "language_info": {
   "codemirror_mode": {
    "name": "ipython",
    "version": 2
   },
   "file_extension": ".py",
   "mimetype": "text/x-python",
   "name": "python",
   "nbconvert_exporter": "python",
   "pygments_lexer": "ipython2",
   "version": "2.7.6"
  }
 },
 "nbformat": 4,
 "nbformat_minor": 0
}